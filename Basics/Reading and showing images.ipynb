{
 "cells": [
  {
   "cell_type": "code",
   "execution_count": 1,
   "id": "3133cbc6",
   "metadata": {},
   "outputs": [],
   "source": [
    "import cv2"
   ]
  },
  {
   "cell_type": "markdown",
   "id": "e8901e7e",
   "metadata": {},
   "source": [
    "### Reading image"
   ]
  },
  {
   "cell_type": "code",
   "execution_count": 12,
   "id": "d9ba6d2f",
   "metadata": {},
   "outputs": [
    {
     "data": {
      "text/plain": [
       "(numpy.ndarray, (168, 300, 3))"
      ]
     },
     "execution_count": 12,
     "metadata": {},
     "output_type": "execute_result"
    }
   ],
   "source": [
    "img = cv2.imread('images/img2.jpeg') \n",
    "type(img), img.shape"
   ]
  },
  {
   "cell_type": "markdown",
   "id": "137d1f6f",
   "metadata": {},
   "source": [
    "### Showing the image"
   ]
  },
  {
   "cell_type": "code",
   "execution_count": 13,
   "id": "a44096c4",
   "metadata": {},
   "outputs": [],
   "source": [
    "cv2.imshow('image frame', img)\n",
    "cv2.waitKey(0)\n",
    "cv2.destroyWindow('image frame')"
   ]
  },
  {
   "cell_type": "markdown",
   "id": "ce2f0bc1",
   "metadata": {},
   "source": [
    "### showing multiple image in one frame"
   ]
  },
  {
   "cell_type": "code",
   "execution_count": 14,
   "id": "8032f54a",
   "metadata": {},
   "outputs": [],
   "source": [
    "import numpy as np"
   ]
  },
  {
   "cell_type": "code",
   "execution_count": 24,
   "id": "a53b84b5",
   "metadata": {},
   "outputs": [],
   "source": [
    "h = np.hstack((img, img))\n",
    "v = np.vstack((h, h))\n",
    "\n",
    "cv2.imshow('grid of image', v)\n",
    "cv2.waitKey(0)\n",
    "cv2.destroyAllWindows()"
   ]
  },
  {
   "cell_type": "code",
   "execution_count": 45,
   "id": "10c11d62",
   "metadata": {},
   "outputs": [],
   "source": [
    "def get_new_aspect(img, scale=2):\n",
    "    x, y, c = img.shape\n",
    "    aspect = x/y\n",
    "    return int(y * aspect * scale), int(x * aspect * scale)"
   ]
  },
  {
   "cell_type": "code",
   "execution_count": 46,
   "id": "142e186c",
   "metadata": {},
   "outputs": [
    {
     "data": {
      "text/plain": [
       "(168, 300, 3)"
      ]
     },
     "execution_count": 46,
     "metadata": {},
     "output_type": "execute_result"
    }
   ],
   "source": [
    "img.shape"
   ]
  },
  {
   "cell_type": "code",
   "execution_count": 50,
   "id": "11be5420",
   "metadata": {},
   "outputs": [
    {
     "data": {
      "text/plain": [
       "(336, 188)"
      ]
     },
     "execution_count": 50,
     "metadata": {},
     "output_type": "execute_result"
    }
   ],
   "source": [
    "get_new_aspect(img) # return y,x bcz resize funtion take pixels in that format"
   ]
  },
  {
   "cell_type": "code",
   "execution_count": 51,
   "id": "7a05e2f4",
   "metadata": {},
   "outputs": [],
   "source": [
    "img1 = cv2.resize(img, get_new_aspect(img, 3))\n",
    "\n",
    "h = np.hstack((img1, img1))\n",
    "v = np.vstack((h, h))\n",
    "\n",
    "cv2.imshow('grid of image', v)\n",
    "cv2.waitKey(0)\n",
    "cv2.destroyAllWindows()"
   ]
  },
  {
   "cell_type": "markdown",
   "id": "299368df",
   "metadata": {},
   "source": [
    "### Creating Slideshow for multiple image"
   ]
  },
  {
   "cell_type": "code",
   "execution_count": 52,
   "id": "fe8fe213",
   "metadata": {},
   "outputs": [],
   "source": [
    "import os"
   ]
  },
  {
   "cell_type": "code",
   "execution_count": 55,
   "id": "4805d2de",
   "metadata": {},
   "outputs": [
    {
     "data": {
      "text/plain": [
       "['img1.jpeg', 'img2.jpeg', 'img3.jpeg', 'img4.jpeg']"
      ]
     },
     "execution_count": 55,
     "metadata": {},
     "output_type": "execute_result"
    }
   ],
   "source": [
    "path = 'images/'\n",
    "images = os.listdir(path)\n",
    "images"
   ]
  },
  {
   "cell_type": "code",
   "execution_count": 59,
   "id": "15565ade",
   "metadata": {},
   "outputs": [],
   "source": [
    "for image in images:\n",
    "    img_ = cv2.imread(path + image)\n",
    "    img_resized = cv2.resize(img_, get_new_aspect(img_, 5))\n",
    "\n",
    "    cv2.imshow(\"My Photo Viewer\", img_resized)\n",
    "    cv2.waitKey(2000)\n",
    "    \n",
    "cv2.destroyAllWindows()"
   ]
  },
  {
   "cell_type": "markdown",
   "id": "cda3dbf4",
   "metadata": {},
   "source": [
    "### Image channels"
   ]
  },
  {
   "cell_type": "markdown",
   "id": "c5452b00",
   "metadata": {},
   "source": [
    "- `cv2.IMREAD_COLOR` : default (1) read as bgr\n",
    "- `cv2.IMREAD_GRAYSCALE` : (0) read as grayscale image\n",
    "- `cv2.IMREAD_UNCHANGED` : (-1) read the image as-is, including any alpha channel (transparency)."
   ]
  },
  {
   "cell_type": "code",
   "execution_count": 84,
   "id": "ce26fe1c",
   "metadata": {},
   "outputs": [],
   "source": [
    "img = cv2.imread('images/img1.jpeg',1)\n",
    "cv2.imshow(\"My Viewer\", img)\n",
    "\n",
    "img1 = cv2.imread('images/img1.jpeg',0)\n",
    "cv2.imshow(\"My Viewer grayscale\", img1)\n",
    "\n",
    "img2 = cv2.imread('images/img1.jpeg',-1)\n",
    "cv2.imshow(\"My Viewer unchanged\", img2)\n",
    "\n",
    "cv2.waitKey(0)\n",
    "cv2.destroyAllWindows()"
   ]
  },
  {
   "cell_type": "markdown",
   "id": "75023186",
   "metadata": {},
   "source": [
    "### Add text over image"
   ]
  },
  {
   "cell_type": "markdown",
   "id": "6b059355",
   "metadata": {},
   "source": [
    "- `cv2.putText()` : to add text into image\n",
    "    - `img` : image in numpy\n",
    "    - `text` : text which you want to write in image\n",
    "    - `org` : tuple containing origin (X, Y)\n",
    "    - `fontFace` : font style like `cv2.FONT_HERSHEY_COMPLEX`\n",
    "    - `fontScale` : scale of the font\n",
    "    - `color` : font color in BGR Format eg. (0,255,0)\n",
    "    - `thickness` : thickness of font eg. 2\n",
    "    - `lineType` : Line type for text eg. cv2.FILLED, cv2.LINE_AA, cv2.LINE_4, cv2.LINE_8\n",
    "    - `bottomLeftOrigin` : for mirror imaging Value is either True or False"
   ]
  },
  {
   "cell_type": "code",
   "execution_count": 86,
   "id": "3ba22509",
   "metadata": {},
   "outputs": [],
   "source": [
    "txt = cv2.putText(img = img,\n",
    "                  text = \"Nature\",\n",
    "                  org = (100, 50),\n",
    "                  fontFace = cv2.FONT_HERSHEY_DUPLEX,\n",
    "                  fontScale = 1,\n",
    "                  color = (0,255,0),\n",
    "                  thickness = 3,\n",
    "                  lineType = cv2.LINE_AA,\n",
    "                  bottomLeftOrigin = False\n",
    "                 )\n",
    "\n",
    "txt = cv2.putText(img = txt,\n",
    "                  text = \"Nature\",\n",
    "                  org = (100, 50),\n",
    "                  fontFace = cv2.FONT_HERSHEY_DUPLEX,\n",
    "                  fontScale = 1,\n",
    "                  color = (114,120,255),\n",
    "                  thickness = 3,\n",
    "                  lineType = cv2.LINE_AA,\n",
    "                  bottomLeftOrigin = True # for creating mirror\n",
    "                 )\n",
    "cv2.imshow(\"My Viewer\", txt)\n",
    "\n",
    "cv2.waitKey(0)\n",
    "cv2.destroyAllWindows()"
   ]
  },
  {
   "cell_type": "markdown",
   "id": "ecd6d8c0",
   "metadata": {},
   "source": [
    "### Drawing line in image"
   ]
  },
  {
   "cell_type": "code",
   "execution_count": 95,
   "id": "e21f2264",
   "metadata": {},
   "outputs": [],
   "source": [
    "old_img = cv2.imread('images/img4.jpeg')\n",
    "old_img = cv2.resize(old_img, (500,500))\n",
    "\n",
    "new_img = cv2.line(img = old_img,\n",
    "                   pt1 = (100,100),\n",
    "                   pt2 = (200,200),\n",
    "                   color = (0,200,200),\n",
    "                   thickness = 3,\n",
    "                   lineType = cv2.FILLED\n",
    "                  )\n",
    "\n",
    "new_img = cv2.line(img = new_img,\n",
    "                   pt1 = (200,200),\n",
    "                   pt2 = (300,100),\n",
    "                   color = (0,200,240),\n",
    "                   thickness = 3,\n",
    "                   lineType = cv2.LINE_8\n",
    "                  )\n",
    "\n",
    "new_img = cv2.line(img = new_img,\n",
    "                   pt1 = (300,100),\n",
    "                   pt2 = (100,100),\n",
    "                   color = (0,240,200),\n",
    "                   thickness = 3,\n",
    "                   lineType = cv2.LINE_4\n",
    "                  )\n",
    "\n",
    "cv2.imshow(\"Image with line\", new_img)\n",
    "cv2.waitKey(0)\n",
    "cv2.destroyAllWindows()"
   ]
  },
  {
   "cell_type": "markdown",
   "id": "f98e07df",
   "metadata": {},
   "source": [
    "### Drawing rectangle in image"
   ]
  },
  {
   "cell_type": "code",
   "execution_count": 102,
   "id": "c0e0be72",
   "metadata": {},
   "outputs": [],
   "source": [
    "old_img = cv2.imread('images/img4.jpeg')\n",
    "old_img = cv2.resize(old_img, (500,500))\n",
    "\n",
    "new_img = cv2.rectangle(img = old_img,\n",
    "                        pt1 = (100,100),\n",
    "                        pt2 = (300,300),\n",
    "                        color = (0,240,200),\n",
    "                        thickness = 8,\n",
    "                        lineType = 16\n",
    "                  )\n",
    "\n",
    "cv2.imshow(\"Image\", new_img)\n",
    "cv2.waitKey(0)\n",
    "cv2.destroyAllWindows()"
   ]
  },
  {
   "cell_type": "markdown",
   "id": "5e78e013",
   "metadata": {},
   "source": [
    "### Drawing Circle"
   ]
  },
  {
   "cell_type": "code",
   "execution_count": 6,
   "id": "ba44ec68",
   "metadata": {},
   "outputs": [],
   "source": [
    "old_img = cv2.imread('images/img5.webp')\n",
    "old_img = cv2.resize(old_img, (800,500))\n",
    "\n",
    "new_img = cv2.circle(img = old_img,\n",
    "                     center = (400,200),\n",
    "                     radius = 150,\n",
    "                     color = (0,240,0),\n",
    "                     thickness = 8,\n",
    "                     lineType = 16\n",
    "                  )\n",
    "\n",
    "cv2.imshow(\"Image\", new_img)\n",
    "cv2.waitKey(0)\n",
    "cv2.destroyAllWindows()"
   ]
  },
  {
   "cell_type": "markdown",
   "id": "2f884f00",
   "metadata": {},
   "source": [
    "### Drawing Ellipse in image"
   ]
  },
  {
   "cell_type": "code",
   "execution_count": 15,
   "id": "2e356e4b",
   "metadata": {},
   "outputs": [],
   "source": [
    "old_img = cv2.imread('images/img5.webp')\n",
    "old_img = cv2.resize(old_img, (800,500))\n",
    "\n",
    "new_img = cv2.ellipse(img = old_img,\n",
    "                     center = (410,180),\n",
    "                     axes = (80,100),\n",
    "                     angle = 300,\n",
    "                     startAngle=80,\n",
    "                     endAngle=360,\n",
    "                     color = (0,240,0),\n",
    "                     thickness = 8,\n",
    "                     lineType = 16\n",
    "                  )\n",
    "\n",
    "cv2.imshow(\"Image\", new_img)\n",
    "cv2.waitKey(0)\n",
    "cv2.destroyAllWindows()"
   ]
  },
  {
   "cell_type": "code",
   "execution_count": null,
   "id": "863742f6",
   "metadata": {},
   "outputs": [],
   "source": []
  }
 ],
 "metadata": {
  "kernelspec": {
   "display_name": "Python 3 (ipykernel)",
   "language": "python",
   "name": "python3"
  },
  "language_info": {
   "codemirror_mode": {
    "name": "ipython",
    "version": 3
   },
   "file_extension": ".py",
   "mimetype": "text/x-python",
   "name": "python",
   "nbconvert_exporter": "python",
   "pygments_lexer": "ipython3",
   "version": "3.11.3"
  }
 },
 "nbformat": 4,
 "nbformat_minor": 5
}
